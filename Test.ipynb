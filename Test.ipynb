{
 "cells": [
  {
   "cell_type": "markdown",
   "id": "dec4fdfc",
   "metadata": {},
   "source": [
    "## Contexte\n",
    "\n",
    "« Prédire le comportement des clients pour les fidéliser. Vous pouvez analyser toutes les données clients pertinentes et développer des programmes de fidélisation ciblés. » [Exemples de données IBM]\n",
    "\n",
    "## Contenu\n",
    "\n",
    "Chaque ligne représente un client, chaque colonne contient les attributs du client décrits dans la colonne Métadonnées.\n",
    "\n",
    "L'ensemble de données comprend des informations sur :\n",
    "\n",
    "Clients partis au cours du dernier mois – la colonne s'appelle Churn\n",
    "\n",
    "1.Services auxquels chaque client a souscrit : téléphone, lignes multiples, Internet, sécurité en ligne, sauvegarde en ligne, protection des appareils, support technique et streaming TV et films\n",
    "\n",
    "2.Informations sur le compte client : durée de la relation client, contrat, mode de paiement, facturation électronique, frais mensuels et frais totaux\n",
    "\n",
    "3.Informations démographiques sur les clients : sexe, tranche d'âge et s'ils ont des partenaires et des personnes à charge\n",
    "\n",
    "\n",
    "## Variables et Significations:\n",
    "\n",
    "\n",
    "customerID : Identifiant unique du client.\n",
    "\n",
    "gender : Sexe du client (Masculin ou Féminin).\n",
    "\n",
    "SeniorCitizen : Indique si le client est une personne âgée (1 = Oui, 0 = Non).\n",
    "\n",
    "Partner : Indique si le client a un(e) partenaire (Oui/Non).\n",
    "\n",
    "Dependents : Indique si le client a des personnes à charge (Oui/Non).\n",
    "\n",
    "Tenure : Durée de la relation avec le fournisseur (en mois).\n",
    "\n",
    "PhoneService : Indique si le client a souscrit à un service téléphonique (Oui/Non).\n",
    "\n",
    "MultipleLines : Indique si le client a plusieurs lignes téléphoniques (Oui/Non).\n",
    "\n",
    "InternetService : Type de service Internet souscrit (DSL, Fibre optique, Aucun).\n",
    "\n",
    "OnlineSecurity : Indique si le client a souscrit à un service de sécurité en ligne (Oui/Non).\n",
    "\n",
    "OnlineBackup : Indique si le client a souscrit à un service de sauvegarde en ligne (Oui/Non).\n",
    "\n",
    "DeviceProtection : Indique si le client a souscrit à une protection des appareils (Oui/Non).\n",
    "\n",
    "TechSupport : Indique si le client a accès à un support technique (Oui/Non).\n",
    "\n",
    "StreamingTV : Indique si le client a souscrit au service de streaming TV (Oui/Non).\n",
    "\n",
    "StreamingMovies : Indique si le client a souscrit au service de streaming de films (Oui/Non).\n",
    "\n",
    "Contract : Type de contrat du client (Mensuel, Un an, Deux ans).\n",
    "\n",
    "PaperlessBilling : Indique si le client a opté pour une facturation électronique (Oui/Non).\n",
    "\n",
    "PaymentMethod : Mode de paiement du client (Carte de crédit, Chèque électronique, Chèque envoyé, Prélèvement automatique).\n",
    "\n",
    "MonthlyCharges : Frais mensuels payés par le client.\n",
    "\n",
    "TotalCharges : Frais totaux payés par le client jusqu'à présent.\n",
    "\n",
    "Churn : Indique si le client a résilié son abonnement (Oui/Non)."
   ]
  },
  {
   "cell_type": "code",
   "execution_count": 29,
   "id": "2c4f5169",
   "metadata": {},
   "outputs": [],
   "source": [
    "# Importer les packages \n",
    "import pandas as pd\n",
    "import seaborn as sns\n",
    "import matplotlib.pyplot as plt\n",
    "\n",
    "\n",
    "from sklearn.metrics import confusion_matrix, accuracy_score, classification_report, roc_curve, auc\n",
    "import numpy as np\n",
    "from sklearn.linear_model import LogisticRegression\n",
    "from sklearn.preprocessing import StandardScaler\n",
    "import warnings\n",
    "warnings.filterwarnings('ignore')\n",
    "from sklearn.model_selection import train_test_split\n",
    "from scipy import stats\n",
    "from sklearn.ensemble import RandomForestClassifier\n",
    "from sklearn.model_selection import GridSearchCV\n",
    "from sklearn.preprocessing import StandardScaler, OneHotEncoder\n"
   ]
  },
  {
   "cell_type": "code",
   "execution_count": 30,
   "id": "a21d5d02",
   "metadata": {},
   "outputs": [
    {
     "data": {
      "text/html": [
       "<div>\n",
       "<style scoped>\n",
       "    .dataframe tbody tr th:only-of-type {\n",
       "        vertical-align: middle;\n",
       "    }\n",
       "\n",
       "    .dataframe tbody tr th {\n",
       "        vertical-align: top;\n",
       "    }\n",
       "\n",
       "    .dataframe thead th {\n",
       "        text-align: right;\n",
       "    }\n",
       "</style>\n",
       "<table border=\"1\" class=\"dataframe\">\n",
       "  <thead>\n",
       "    <tr style=\"text-align: right;\">\n",
       "      <th></th>\n",
       "      <th>customerID</th>\n",
       "      <th>gender</th>\n",
       "      <th>SeniorCitizen</th>\n",
       "      <th>Partner</th>\n",
       "      <th>Dependents</th>\n",
       "      <th>tenure</th>\n",
       "      <th>PhoneService</th>\n",
       "      <th>MultipleLines</th>\n",
       "      <th>InternetService</th>\n",
       "      <th>OnlineSecurity</th>\n",
       "      <th>...</th>\n",
       "      <th>DeviceProtection</th>\n",
       "      <th>TechSupport</th>\n",
       "      <th>StreamingTV</th>\n",
       "      <th>StreamingMovies</th>\n",
       "      <th>Contract</th>\n",
       "      <th>PaperlessBilling</th>\n",
       "      <th>PaymentMethod</th>\n",
       "      <th>MonthlyCharges</th>\n",
       "      <th>TotalCharges</th>\n",
       "      <th>Churn</th>\n",
       "    </tr>\n",
       "  </thead>\n",
       "  <tbody>\n",
       "    <tr>\n",
       "      <th>0</th>\n",
       "      <td>7590-VHVEG</td>\n",
       "      <td>Female</td>\n",
       "      <td>0</td>\n",
       "      <td>Yes</td>\n",
       "      <td>No</td>\n",
       "      <td>1</td>\n",
       "      <td>No</td>\n",
       "      <td>No phone service</td>\n",
       "      <td>DSL</td>\n",
       "      <td>No</td>\n",
       "      <td>...</td>\n",
       "      <td>No</td>\n",
       "      <td>No</td>\n",
       "      <td>No</td>\n",
       "      <td>No</td>\n",
       "      <td>Month-to-month</td>\n",
       "      <td>Yes</td>\n",
       "      <td>Electronic check</td>\n",
       "      <td>29.85</td>\n",
       "      <td>29.85</td>\n",
       "      <td>No</td>\n",
       "    </tr>\n",
       "    <tr>\n",
       "      <th>1</th>\n",
       "      <td>5575-GNVDE</td>\n",
       "      <td>Male</td>\n",
       "      <td>0</td>\n",
       "      <td>No</td>\n",
       "      <td>No</td>\n",
       "      <td>34</td>\n",
       "      <td>Yes</td>\n",
       "      <td>No</td>\n",
       "      <td>DSL</td>\n",
       "      <td>Yes</td>\n",
       "      <td>...</td>\n",
       "      <td>Yes</td>\n",
       "      <td>No</td>\n",
       "      <td>No</td>\n",
       "      <td>No</td>\n",
       "      <td>One year</td>\n",
       "      <td>No</td>\n",
       "      <td>Mailed check</td>\n",
       "      <td>56.95</td>\n",
       "      <td>1889.5</td>\n",
       "      <td>No</td>\n",
       "    </tr>\n",
       "    <tr>\n",
       "      <th>2</th>\n",
       "      <td>3668-QPYBK</td>\n",
       "      <td>Male</td>\n",
       "      <td>0</td>\n",
       "      <td>No</td>\n",
       "      <td>No</td>\n",
       "      <td>2</td>\n",
       "      <td>Yes</td>\n",
       "      <td>No</td>\n",
       "      <td>DSL</td>\n",
       "      <td>Yes</td>\n",
       "      <td>...</td>\n",
       "      <td>No</td>\n",
       "      <td>No</td>\n",
       "      <td>No</td>\n",
       "      <td>No</td>\n",
       "      <td>Month-to-month</td>\n",
       "      <td>Yes</td>\n",
       "      <td>Mailed check</td>\n",
       "      <td>53.85</td>\n",
       "      <td>108.15</td>\n",
       "      <td>Yes</td>\n",
       "    </tr>\n",
       "    <tr>\n",
       "      <th>3</th>\n",
       "      <td>7795-CFOCW</td>\n",
       "      <td>Male</td>\n",
       "      <td>0</td>\n",
       "      <td>No</td>\n",
       "      <td>No</td>\n",
       "      <td>45</td>\n",
       "      <td>No</td>\n",
       "      <td>No phone service</td>\n",
       "      <td>DSL</td>\n",
       "      <td>Yes</td>\n",
       "      <td>...</td>\n",
       "      <td>Yes</td>\n",
       "      <td>Yes</td>\n",
       "      <td>No</td>\n",
       "      <td>No</td>\n",
       "      <td>One year</td>\n",
       "      <td>No</td>\n",
       "      <td>Bank transfer (automatic)</td>\n",
       "      <td>42.30</td>\n",
       "      <td>1840.75</td>\n",
       "      <td>No</td>\n",
       "    </tr>\n",
       "    <tr>\n",
       "      <th>4</th>\n",
       "      <td>9237-HQITU</td>\n",
       "      <td>Female</td>\n",
       "      <td>0</td>\n",
       "      <td>No</td>\n",
       "      <td>No</td>\n",
       "      <td>2</td>\n",
       "      <td>Yes</td>\n",
       "      <td>No</td>\n",
       "      <td>Fiber optic</td>\n",
       "      <td>No</td>\n",
       "      <td>...</td>\n",
       "      <td>No</td>\n",
       "      <td>No</td>\n",
       "      <td>No</td>\n",
       "      <td>No</td>\n",
       "      <td>Month-to-month</td>\n",
       "      <td>Yes</td>\n",
       "      <td>Electronic check</td>\n",
       "      <td>70.70</td>\n",
       "      <td>151.65</td>\n",
       "      <td>Yes</td>\n",
       "    </tr>\n",
       "  </tbody>\n",
       "</table>\n",
       "<p>5 rows × 21 columns</p>\n",
       "</div>"
      ],
      "text/plain": [
       "   customerID  gender  SeniorCitizen Partner Dependents  tenure PhoneService  \\\n",
       "0  7590-VHVEG  Female              0     Yes         No       1           No   \n",
       "1  5575-GNVDE    Male              0      No         No      34          Yes   \n",
       "2  3668-QPYBK    Male              0      No         No       2          Yes   \n",
       "3  7795-CFOCW    Male              0      No         No      45           No   \n",
       "4  9237-HQITU  Female              0      No         No       2          Yes   \n",
       "\n",
       "      MultipleLines InternetService OnlineSecurity  ... DeviceProtection  \\\n",
       "0  No phone service             DSL             No  ...               No   \n",
       "1                No             DSL            Yes  ...              Yes   \n",
       "2                No             DSL            Yes  ...               No   \n",
       "3  No phone service             DSL            Yes  ...              Yes   \n",
       "4                No     Fiber optic             No  ...               No   \n",
       "\n",
       "  TechSupport StreamingTV StreamingMovies        Contract PaperlessBilling  \\\n",
       "0          No          No              No  Month-to-month              Yes   \n",
       "1          No          No              No        One year               No   \n",
       "2          No          No              No  Month-to-month              Yes   \n",
       "3         Yes          No              No        One year               No   \n",
       "4          No          No              No  Month-to-month              Yes   \n",
       "\n",
       "               PaymentMethod MonthlyCharges  TotalCharges Churn  \n",
       "0           Electronic check          29.85         29.85    No  \n",
       "1               Mailed check          56.95        1889.5    No  \n",
       "2               Mailed check          53.85        108.15   Yes  \n",
       "3  Bank transfer (automatic)          42.30       1840.75    No  \n",
       "4           Electronic check          70.70        151.65   Yes  \n",
       "\n",
       "[5 rows x 21 columns]"
      ]
     },
     "execution_count": 30,
     "metadata": {},
     "output_type": "execute_result"
    }
   ],
   "source": [
    "# Chargement des données\n",
    "data = pd.read_csv('C:/Users/diaab/Documents/SSD/S2/Projet Python/WA_Fn-UseC_-Telco-Customer-Churn.csv', sep =\";\")\n",
    "\n",
    "\n",
    "# Affichage des premières lignes\n",
    "data.head()"
   ]
  },
  {
   "cell_type": "code",
   "execution_count": 31,
   "id": "9a15994d",
   "metadata": {},
   "outputs": [
    {
     "name": "stdout",
     "output_type": "stream",
     "text": [
      "<class 'pandas.core.frame.DataFrame'>\n",
      "RangeIndex: 7043 entries, 0 to 7042\n",
      "Data columns (total 21 columns):\n",
      " #   Column            Non-Null Count  Dtype  \n",
      "---  ------            --------------  -----  \n",
      " 0   customerID        7043 non-null   object \n",
      " 1   gender            7043 non-null   object \n",
      " 2   SeniorCitizen     7043 non-null   int64  \n",
      " 3   Partner           7043 non-null   object \n",
      " 4   Dependents        7043 non-null   object \n",
      " 5   tenure            7043 non-null   int64  \n",
      " 6   PhoneService      7043 non-null   object \n",
      " 7   MultipleLines     7043 non-null   object \n",
      " 8   InternetService   7043 non-null   object \n",
      " 9   OnlineSecurity    7043 non-null   object \n",
      " 10  OnlineBackup      7043 non-null   object \n",
      " 11  DeviceProtection  7043 non-null   object \n",
      " 12  TechSupport       7043 non-null   object \n",
      " 13  StreamingTV       7043 non-null   object \n",
      " 14  StreamingMovies   7043 non-null   object \n",
      " 15  Contract          7043 non-null   object \n",
      " 16  PaperlessBilling  7043 non-null   object \n",
      " 17  PaymentMethod     7043 non-null   object \n",
      " 18  MonthlyCharges    7043 non-null   float64\n",
      " 19  TotalCharges      7043 non-null   object \n",
      " 20  Churn             7043 non-null   object \n",
      "dtypes: float64(1), int64(2), object(18)\n",
      "memory usage: 1.1+ MB\n"
     ]
    }
   ],
   "source": [
    "# Informations sur les colonnes (types, valeurs nulles)\n",
    "data.info()"
   ]
  },
  {
   "cell_type": "code",
   "execution_count": 32,
   "id": "e92632c8",
   "metadata": {},
   "outputs": [],
   "source": [
    "# Conversion de TotalCharges en float (et gestion des erreurs de conversion)\n",
    "data['TotalCharges'] = pd.to_numeric(data['TotalCharges'], errors='coerce')\n",
    "\n",
    "data = data.dropna(subset=['TotalCharges'])\n"
   ]
  },
  {
   "cell_type": "code",
   "execution_count": 33,
   "id": "a57bffca",
   "metadata": {},
   "outputs": [
    {
     "name": "stdout",
     "output_type": "stream",
     "text": [
      "<class 'pandas.core.frame.DataFrame'>\n",
      "Int64Index: 7032 entries, 0 to 7042\n",
      "Data columns (total 21 columns):\n",
      " #   Column            Non-Null Count  Dtype  \n",
      "---  ------            --------------  -----  \n",
      " 0   customerID        7032 non-null   object \n",
      " 1   gender            7032 non-null   object \n",
      " 2   SeniorCitizen     7032 non-null   int64  \n",
      " 3   Partner           7032 non-null   object \n",
      " 4   Dependents        7032 non-null   object \n",
      " 5   tenure            7032 non-null   int64  \n",
      " 6   PhoneService      7032 non-null   object \n",
      " 7   MultipleLines     7032 non-null   object \n",
      " 8   InternetService   7032 non-null   object \n",
      " 9   OnlineSecurity    7032 non-null   object \n",
      " 10  OnlineBackup      7032 non-null   object \n",
      " 11  DeviceProtection  7032 non-null   object \n",
      " 12  TechSupport       7032 non-null   object \n",
      " 13  StreamingTV       7032 non-null   object \n",
      " 14  StreamingMovies   7032 non-null   object \n",
      " 15  Contract          7032 non-null   object \n",
      " 16  PaperlessBilling  7032 non-null   object \n",
      " 17  PaymentMethod     7032 non-null   object \n",
      " 18  MonthlyCharges    7032 non-null   float64\n",
      " 19  TotalCharges      7032 non-null   float64\n",
      " 20  Churn             7032 non-null   object \n",
      "dtypes: float64(2), int64(2), object(17)\n",
      "memory usage: 1.2+ MB\n"
     ]
    }
   ],
   "source": [
    "data.info()"
   ]
  },
  {
   "cell_type": "code",
   "execution_count": 34,
   "id": "75cf0130",
   "metadata": {},
   "outputs": [
    {
     "data": {
      "text/html": [
       "<div>\n",
       "<style scoped>\n",
       "    .dataframe tbody tr th:only-of-type {\n",
       "        vertical-align: middle;\n",
       "    }\n",
       "\n",
       "    .dataframe tbody tr th {\n",
       "        vertical-align: top;\n",
       "    }\n",
       "\n",
       "    .dataframe thead th {\n",
       "        text-align: right;\n",
       "    }\n",
       "</style>\n",
       "<table border=\"1\" class=\"dataframe\">\n",
       "  <thead>\n",
       "    <tr style=\"text-align: right;\">\n",
       "      <th></th>\n",
       "      <th>count</th>\n",
       "      <th>mean</th>\n",
       "      <th>std</th>\n",
       "      <th>min</th>\n",
       "      <th>25%</th>\n",
       "      <th>50%</th>\n",
       "      <th>75%</th>\n",
       "      <th>max</th>\n",
       "    </tr>\n",
       "  </thead>\n",
       "  <tbody>\n",
       "    <tr>\n",
       "      <th>SeniorCitizen</th>\n",
       "      <td>7032.0</td>\n",
       "      <td>0.162400</td>\n",
       "      <td>0.368844</td>\n",
       "      <td>0.00</td>\n",
       "      <td>0.0000</td>\n",
       "      <td>0.000</td>\n",
       "      <td>0.0000</td>\n",
       "      <td>1.00</td>\n",
       "    </tr>\n",
       "    <tr>\n",
       "      <th>tenure</th>\n",
       "      <td>7032.0</td>\n",
       "      <td>32.421786</td>\n",
       "      <td>24.545260</td>\n",
       "      <td>1.00</td>\n",
       "      <td>9.0000</td>\n",
       "      <td>29.000</td>\n",
       "      <td>55.0000</td>\n",
       "      <td>72.00</td>\n",
       "    </tr>\n",
       "    <tr>\n",
       "      <th>MonthlyCharges</th>\n",
       "      <td>7032.0</td>\n",
       "      <td>64.798208</td>\n",
       "      <td>30.085974</td>\n",
       "      <td>18.25</td>\n",
       "      <td>35.5875</td>\n",
       "      <td>70.350</td>\n",
       "      <td>89.8625</td>\n",
       "      <td>118.75</td>\n",
       "    </tr>\n",
       "    <tr>\n",
       "      <th>TotalCharges</th>\n",
       "      <td>7032.0</td>\n",
       "      <td>2283.300441</td>\n",
       "      <td>2266.771362</td>\n",
       "      <td>18.80</td>\n",
       "      <td>401.4500</td>\n",
       "      <td>1397.475</td>\n",
       "      <td>3794.7375</td>\n",
       "      <td>8684.80</td>\n",
       "    </tr>\n",
       "  </tbody>\n",
       "</table>\n",
       "</div>"
      ],
      "text/plain": [
       "                 count         mean          std    min       25%       50%  \\\n",
       "SeniorCitizen   7032.0     0.162400     0.368844   0.00    0.0000     0.000   \n",
       "tenure          7032.0    32.421786    24.545260   1.00    9.0000    29.000   \n",
       "MonthlyCharges  7032.0    64.798208    30.085974  18.25   35.5875    70.350   \n",
       "TotalCharges    7032.0  2283.300441  2266.771362  18.80  401.4500  1397.475   \n",
       "\n",
       "                      75%      max  \n",
       "SeniorCitizen      0.0000     1.00  \n",
       "tenure            55.0000    72.00  \n",
       "MonthlyCharges    89.8625   118.75  \n",
       "TotalCharges    3794.7375  8684.80  "
      ]
     },
     "execution_count": 34,
     "metadata": {},
     "output_type": "execute_result"
    }
   ],
   "source": [
    "# Statistiques descriptives (moyenne, écart-type, etc.)\n",
    "data.describe().transpose()\n"
   ]
  },
  {
   "cell_type": "code",
   "execution_count": 35,
   "id": "79e20a36",
   "metadata": {},
   "outputs": [
    {
     "data": {
      "image/png": "[encoded data removed]",
      "text/plain": [
       "<Figure size 360x360 with 2 Axes>"
      ]
     },
     "metadata": {
      "needs_background": "light"
     },
     "output_type": "display_data"
    }
   ],
   "source": [
    "# Vérifier les valeurs manquantes\n",
    "missing_values = data.isnull()\n",
    "\n",
    "# Créer une heatmap pour visualiser les valeurs manquantes\n",
    "plt.figure(figsize=(5, 5))\n",
    "sns.heatmap(missing_values, cbar=True, cmap='viridis', yticklabels=False)\n",
    "\n",
    "# Ajouter un titre au graphique\n",
    "plt.title('Visualisation des valeurs manquantes')\n",
    "plt.show()"
   ]
  },
  {
   "cell_type": "code",
   "execution_count": 36,
   "id": "c32f0ccc",
   "metadata": {},
   "outputs": [
    {
     "data": {
      "image/png": "[encoded data removed]",
      "text/plain": [
       "<Figure size 1152x864 with 3 Axes>"
      ]
     },
     "metadata": {
      "needs_background": "light"
     },
     "output_type": "display_data"
    }
   ],
   "source": [
    "# Colonnes à tracer\n",
    "columns = ['tenure', 'MonthlyCharges', 'TotalCharges']\n",
    "\n",
    "# Générer autant de couleurs qu'il y a de colonnes\n",
    "colors = sns.color_palette('Set1', n_colors=len(columns))\n",
    "\n",
    "plt.figure(figsize=(16, 12))\n",
    "for i, (col, color) in enumerate(zip(columns, colors), 1):\n",
    "    ax = plt.subplot(3, 3, i)          \n",
    "    sns.boxplot(x=data[col], color=color, ax=ax)\n",
    "    ax.set_title(f'Boxplot de {col}')\n",
    "\n",
    "plt.tight_layout()\n",
    "plt.show()"
   ]
  },
  {
   "cell_type": "code",
   "execution_count": 37,
   "id": "68c55361",
   "metadata": {},
   "outputs": [
    {
     "name": "stdout",
     "output_type": "stream",
     "text": [
      "Outliers détectés avec IQR pour tenure: 0 valeurs aberrantes\n",
      "Outliers détectés avec IQR pour MonthlyCharges: 0 valeurs aberrantes\n",
      "Outliers détectés avec IQR pour TotalCharges: 0 valeurs aberrantes\n",
      "\n",
      "Nombre total des outliers détectés : 0\n"
     ]
    }
   ],
   "source": [
    "# Fonction pour détecter les outliers par IQR\n",
    "def detect_outliers_iqr(data, column):\n",
    "    # Calcul des quantiles Q1 et Q3\n",
    "    Q1 = data[column].quantile(0.25)\n",
    "    Q3 = data[column].quantile(0.75)\n",
    "    \n",
    "    # Calcul de l'IQR\n",
    "    IQR = Q3 - Q1\n",
    "    \n",
    "    # Calcul des bornes inférieure et supérieure\n",
    "    lower_bound = Q1 - 1.5 * IQR\n",
    "    upper_bound = Q3 + 1.5 * IQR\n",
    "    \n",
    "    # Détection des outliers\n",
    "    outliers = data[(data[column] < lower_bound) | (data[column] > upper_bound)]\n",
    "    \n",
    "    return len(outliers)\n",
    "\n",
    "# Liste des colonnes à vérifier\n",
    "columns_to_check = ['tenure', 'MonthlyCharges', 'TotalCharges']\n",
    "\n",
    "# Initialiser un compteur pour les outliers\n",
    "total_outliers = 0\n",
    "\n",
    "\n",
    "# Détection des outliers pour chaque colonne\n",
    "for column in columns_to_check:\n",
    "    outliers_count = detect_outliers_iqr(data, column)\n",
    "    total_outliers += outliers_count\n",
    "    print(f\"Outliers détectés avec IQR pour {column}: {outliers_count} valeurs aberrantes\")\n",
    "\n",
    "# Affichage du nombre total d'outliers détectés\n",
    "print(f\"\\nNombre total des outliers détectés : {total_outliers}\")"
   ]
  },
  {
   "cell_type": "code",
   "execution_count": 38,
   "id": "de00e859",
   "metadata": {},
   "outputs": [
    {
     "data": {
      "image/png": "[encoded data removed]",
      "text/plain": [
       "<Figure size 360x288 with 2 Axes>"
      ]
     },
     "metadata": {
      "needs_background": "light"
     },
     "output_type": "display_data"
    }
   ],
   "source": [
    "# Sélection des colonnes numériques\n",
    "numeric_features = ['tenure', 'MonthlyCharges', 'TotalCharges']\n",
    "\n",
    "# Matrice de corrélation\n",
    "corr_matrix = data[numeric_features].corr()\n",
    "\n",
    "# Affichage avec un heatmap\n",
    "plt.figure(figsize=(5, 4))\n",
    "sns.heatmap(corr_matrix, annot=True, cmap='coolwarm', fmt=\".2f\")\n",
    "plt.title(\"Matrice de corrélation entre variables numériques\")\n",
    "plt.tight_layout()\n",
    "plt.show()"
   ]
  },
  {
   "cell_type": "code",
   "execution_count": 39,
   "id": "75a82940",
   "metadata": {},
   "outputs": [
    {
     "data": {
      "text/plain": [
       "customerID          0\n",
       "gender              0\n",
       "SeniorCitizen       0\n",
       "Partner             0\n",
       "Dependents          0\n",
       "tenure              0\n",
       "PhoneService        0\n",
       "MultipleLines       0\n",
       "InternetService     0\n",
       "OnlineSecurity      0\n",
       "OnlineBackup        0\n",
       "DeviceProtection    0\n",
       "TechSupport         0\n",
       "StreamingTV         0\n",
       "StreamingMovies     0\n",
       "Contract            0\n",
       "PaperlessBilling    0\n",
       "PaymentMethod       0\n",
       "MonthlyCharges      0\n",
       "TotalCharges        0\n",
       "Churn               0\n",
       "dtype: int64"
      ]
     },
     "execution_count": 39,
     "metadata": {},
     "output_type": "execute_result"
    }
   ],
   "source": [
    "# Vérification de valeurs nulles\n",
    "data.isnull().sum()"
   ]
  },
  {
   "cell_type": "code",
   "execution_count": 40,
   "id": "99fcd0ae",
   "metadata": {},
   "outputs": [
    {
     "data": {
      "text/plain": [
       "Index(['customerID', 'gender', 'SeniorCitizen', 'Partner', 'Dependents',\n",
       "       'tenure', 'PhoneService', 'MultipleLines', 'InternetService',\n",
       "       'OnlineSecurity', 'OnlineBackup', 'DeviceProtection', 'TechSupport',\n",
       "       'StreamingTV', 'StreamingMovies', 'Contract', 'PaperlessBilling',\n",
       "       'PaymentMethod', 'MonthlyCharges', 'TotalCharges', 'Churn'],\n",
       "      dtype='object')"
      ]
     },
     "execution_count": 40,
     "metadata": {},
     "output_type": "execute_result"
    }
   ],
   "source": [
    "data.columns"
   ]
  },
  {
   "cell_type": "code",
   "execution_count": 41,
   "id": "5ec57705",
   "metadata": {},
   "outputs": [
    {
     "name": "stdout",
     "output_type": "stream",
     "text": [
      "customerID             0\n",
      "gender                 0\n",
      "SeniorCitizen       5890\n",
      "Partner                0\n",
      "Dependents             0\n",
      "tenure                 0\n",
      "PhoneService           0\n",
      "MultipleLines          0\n",
      "InternetService        0\n",
      "OnlineSecurity         0\n",
      "OnlineBackup           0\n",
      "DeviceProtection       0\n",
      "TechSupport            0\n",
      "StreamingTV            0\n",
      "StreamingMovies        0\n",
      "Contract               0\n",
      "PaperlessBilling       0\n",
      "PaymentMethod          0\n",
      "MonthlyCharges         0\n",
      "TotalCharges           0\n",
      "Churn                  0\n",
      "dtype: int64\n"
     ]
    }
   ],
   "source": [
    "print((data[['customerID', 'gender', 'SeniorCitizen', 'Partner', 'Dependents',\n",
    "       'tenure', 'PhoneService', 'MultipleLines', 'InternetService',\n",
    "       'OnlineSecurity', 'OnlineBackup', 'DeviceProtection', 'TechSupport',\n",
    "       'StreamingTV', 'StreamingMovies', 'Contract', 'PaperlessBilling',\n",
    "       'PaymentMethod', 'MonthlyCharges', 'TotalCharges', 'Churn']] == 0).sum())"
   ]
  },
  {
   "cell_type": "code",
   "execution_count": 42,
   "id": "31a3feef",
   "metadata": {},
   "outputs": [
    {
     "name": "stdout",
     "output_type": "stream",
     "text": [
      "Variables numériques : ['tenure', 'MonthlyCharges', 'TotalCharges']\n",
      "Variables catégorielles : ['customerID', 'gender', 'Partner', 'Dependents', 'PhoneService', 'MultipleLines', 'InternetService', 'OnlineSecurity', 'OnlineBackup', 'DeviceProtection', 'TechSupport', 'StreamingTV', 'StreamingMovies', 'Contract', 'PaperlessBilling', 'PaymentMethod']\n"
     ]
    }
   ],
   "source": [
    "# Préparation des données pour le Machine Learning\n",
    "#Voici les sous-étapes qu’on va suivre, une par une :\n",
    "\n",
    "#Étape 1 : Séparer les variables numériques et catégorielles\n",
    "\n",
    "# Variables numériques (déjà connues)\n",
    "num_features = ['tenure', 'MonthlyCharges', 'TotalCharges']\n",
    "\n",
    "# Variables catégorielles (automatiquement détectées)\n",
    "cat_features = data.select_dtypes(include='object').columns.tolist()\n",
    "\n",
    "# On retire la variable cible 'Churn' des features catégorielles\n",
    "cat_features.remove('Churn')\n",
    "\n",
    "print(\"Variables numériques :\", num_features)\n",
    "print(\"Variables catégorielles :\", cat_features)"
   ]
  },
  {
   "cell_type": "code",
   "execution_count": 43,
   "id": "e2001044",
   "metadata": {},
   "outputs": [],
   "source": [
    "#Étape 2 : Encodage de la variable cible Churn\n",
    "\n",
    "data['Churn'] = data['Churn'].map({'Yes': 1, 'No': 0})"
   ]
  },
  {
   "cell_type": "code",
   "execution_count": 44,
   "id": "84c89191",
   "metadata": {},
   "outputs": [],
   "source": [
    "#Étape 3 : One-Hot Encoding des variables catégorielles\n",
    "\n",
    "data_encoded = pd.get_dummies(data, columns=cat_features, drop_first=True)\n",
    "\n",
    "# Cette ligne fait 3 choses :\n",
    "\n",
    "#pd.get_dummies() applique le One-Hot Encoding (chaque catégorie devient une colonne binaire).\n",
    "\n",
    "#columns=cat_features applique cet encodage uniquement sur les colonnes catégorielles.\n",
    "\n",
    "#drop_first=True supprime la première catégorie de chaque variable pour éviter les doublons d’information (multicolinéarité)."
   ]
  },
  {
   "cell_type": "code",
   "execution_count": 45,
   "id": "bb684071",
   "metadata": {},
   "outputs": [
    {
     "data": {
      "image/png": "[encoded data removed]",
      "text/plain": [
       "<Figure size 432x288 with 2 Axes>"
      ]
     },
     "metadata": {
      "needs_background": "light"
     },
     "output_type": "display_data"
    }
   ],
   "source": [
    "# Calcul de la matrice de corrélation pour les variables numériques avec churn\n",
    "corr_matrix = data_encoded[['tenure', 'MonthlyCharges', 'TotalCharges', 'Churn']].corr()\n",
    "\n",
    "# Affichage de la heatmap\n",
    "plt.figure(figsize=(6, 4))\n",
    "sns.heatmap(corr_matrix, annot=True, cmap='coolwarm', fmt=\".2f\", square=True)\n",
    "plt.title(\"Matrice de corrélation (variables numériques)\")\n",
    "plt.show()"
   ]
  },
  {
   "cell_type": "code",
   "execution_count": 46,
   "id": "fabada50",
   "metadata": {},
   "outputs": [],
   "source": [
    "# Séparation du jeu de données : X (features) et y (cible) \n",
    "\n",
    "# Cible (variable à prédire)\n",
    "y = data_encoded['Churn']\n",
    "\n",
    "# Variables explicatives : toutes les colonnes sauf 'Churn'\n",
    "X = data_encoded.drop('Churn', axis=1)"
   ]
  },
  {
   "cell_type": "code",
   "execution_count": 47,
   "id": "487bfa09",
   "metadata": {},
   "outputs": [],
   "source": [
    "\n",
    "# Normalisation des variables\n",
    "\n",
    "scaler = StandardScaler()\n",
    "X_scaled = scaler.fit_transform(X)"
   ]
  },
  {
   "cell_type": "code",
   "execution_count": 48,
   "id": "3c1bc68f",
   "metadata": {},
   "outputs": [],
   "source": [
    "# Découpage en jeu d’entraînement et jeu de test\n",
    "\n",
    "\n",
    "# 80 % pour l'entraînement, 20 % pour le test\n",
    "X_train, X_test, y_train, y_test = train_test_split(X_scaled, y, test_size=0.2, random_state=42)"
   ]
  },
  {
   "cell_type": "code",
   "execution_count": null,
   "id": "e3eb3510",
   "metadata": {},
   "outputs": [],
   "source": [
    "#Selection des paramètres du modèle\n",
    "param_grid = {\n",
    "    'penalty': ['l1', 'l2', 'elasticnet'],\n",
    "    'C': [0.01, 0.1, 1, 10],          # inverse de la régularisation\n",
    "    'solver': ['lbfgs','liblinear', 'saga'],  # solvers compatibles avec l1 et elasticnet\n",
    "    'max_iter': [100, 200, 500],\n",
    "    'class_weight': [None, 'balanced'],\n",
    "    'random_state': ['auto', 'ovr', 'multinomial'],\n",
    "    'l1_ratio': [0.0, 0.5, 1.0],\n",
    "}\n",
    "\n",
    "log_reg = LogisticRegression()\n",
    "\n",
    "grid_search = GridSearchCV(estimator=log_reg,\n",
    "                           param_grid=param_grid,\n",
    "                           scoring='accuracy',\n",
    "                           cv=5          # 5-fold cross-validation\n",
    "                           )\n",
    "grid_search.fit(X_train, y_train)\n",
    "print(\"Meilleurs paramètres :\", grid_search.best_params_)\n",
    "print(\"Meilleure accuracy en cross-validation :\", grid_search.best_score_)"
   ]
  },
  {
   "cell_type": "code",
   "execution_count": null,
   "id": "cdad2030",
   "metadata": {},
   "outputs": [],
   "source": [
    "# Création du modèle\n",
    "log_model = LogisticRegression(\n",
    "    penalty='l2',           # régularisation L2 par défaut (on peut tester l1, elasticnet)\n",
    "    C=0.01,                  # force de régularisation (on peut tester 0.01, 0.1, 1, 10)\n",
    "    solver='saga',         # bon pour petits/moyens datasets\n",
    "    max_iter=100,           # nombre d'itérations pour s'assurer que ça converge\n",
    "    #class_weight='balanced', # utile si classes déséquilibrées\n",
    "    random_state=26,        # pour reproductibilité\n",
    "    multi_class='auto',     # gère auto binaire/multiclasse\n",
    "    l1_ratio=0.0           # à utiliser si penalty='elasticnet'\n",
    ")\n",
    "\n",
    "# Entraînement\n",
    "log_model.fit(X_train, y_train)\n"
   ]
  },
  {
   "cell_type": "code",
   "execution_count": 24,
   "id": "8ff81265",
   "metadata": {},
   "outputs": [
    {
     "name": "stdout",
     "output_type": "stream",
     "text": [
      "X_train shape : (5625, 7061)\n",
      "X_test shape  : (1407, 7061)\n",
      "y_train shape : (5625,)\n",
      "y_test shape  : (1407,)\n"
     ]
    }
   ],
   "source": [
    "print(\"X_train shape :\", X_train.shape)\n",
    "print(\"X_test shape  :\", X_test.shape)\n",
    "print(\"y_train shape :\", y_train.shape)\n",
    "print(\"y_test shape  :\", y_test.shape)"
   ]
  },
  {
   "cell_type": "code",
   "execution_count": null,
   "id": "2afac144",
   "metadata": {},
   "outputs": [],
   "source": [
    "# Prédictions\n",
    "y_pred = log_model.predict(X_test)"
   ]
  },
  {
   "cell_type": "code",
   "execution_count": null,
   "id": "d80e5aca",
   "metadata": {},
   "outputs": [],
   "source": [
    "# Matrice de confusion\n",
    "cm = confusion_matrix(y_test, y_pred)\n",
    "print(\"Matrice de confusion :\\n\", cm)\n",
    "\n",
    "# Affichage graphique\n",
    "fig, ax = plt.subplots(figsize=(6, 6))\n",
    "im = ax.imshow(cm, cmap=plt.cm.Blues)\n",
    "\n",
    "# Annotations\n",
    "for i in range(cm.shape[0]):\n",
    "    for j in range(cm.shape[1]):\n",
    "        ax.text(j, i, cm[i, j], ha=\"center\", va=\"center\",\n",
    "                color=\"white\" if cm[i, j] > cm.max()/2 else \"black\")\n",
    "\n",
    "# Étiquettes\n",
    "ax.set_xticks([0, 1])\n",
    "ax.set_yticks([0, 1])\n",
    "ax.set_xticklabels(['Non-Churn', 'Churn'])\n",
    "ax.set_yticklabels(['Non-Churn', 'Churn'])\n",
    "ax.set_xlabel('Prédiction')\n",
    "ax.set_ylabel('Valeur réelle')\n",
    "ax.set_title('Matrice de Confusion - Régression Logistique')\n",
    "plt.colorbar(im)\n",
    "plt.tight_layout()\n",
    "plt.show()"
   ]
  },
  {
   "cell_type": "code",
   "execution_count": null,
   "id": "a6c2fdb3",
   "metadata": {},
   "outputs": [],
   "source": [
    "# Accuracy\n",
    "accuracy = accuracy_score(y_test, y_pred)\n",
    "print(f\"Accuracy : {accuracy:.4f}\")"
   ]
  },
  {
   "cell_type": "code",
   "execution_count": null,
   "id": "eae49ce8",
   "metadata": {},
   "outputs": [],
   "source": [
    "# Rapport de classification\n",
    "print(\"Rapport de classification:\\n\", classification_report(y_test, y_pred))\n"
   ]
  },
  {
   "cell_type": "code",
   "execution_count": null,
   "id": "c16cac71",
   "metadata": {},
   "outputs": [],
   "source": [
    "from sklearn.metrics import roc_curve, roc_auc_score\n",
    "\n",
    "# Probabilités prédites pour la classe positive\n",
    "y_proba = log_model.predict_proba(X_test)[:, 1]\n",
    "\n",
    "# Calcul des courbes ROC\n",
    "fpr, tpr, thresholds = roc_curve(y_test, y_proba)\n",
    "auc = roc_auc_score(y_test, y_proba)\n",
    "\n",
    "# Affichage\n",
    "plt.figure(figsize=(8, 6))\n",
    "plt.plot(fpr, tpr, color='darkorange', label=f'ROC curve (AUC = {auc:.2f})')\n",
    "plt.plot([0, 1], [0, 1], color='navy', linestyle='--')\n",
    "plt.xlabel('Taux de faux positifs (FPR)')\n",
    "plt.ylabel('Taux de vrais positifs (TPR)')\n",
    "plt.title('Courbe ROC - Régression Logistique')\n",
    "plt.legend(loc=\"lower right\")\n",
    "plt.grid()\n",
    "plt.show()"
   ]
  },
  {
   "cell_type": "code",
   "execution_count": null,
   "id": "bb721caa",
   "metadata": {},
   "outputs": [],
   "source": []
  }
 ],
 "metadata": {
  "kernelspec": {
   "display_name": "Python 3",
   "language": "python",
   "name": "python3"
  },
  "language_info": {
   "codemirror_mode": {
    "name": "ipython",
    "version": 3
   },
   "file_extension": ".py",
   "mimetype": "text/x-python",
   "name": "python",
   "nbconvert_exporter": "python",
   "pygments_lexer": "ipython3",
   "version": "3.8.8"
  }
 },
 "nbformat": 4,
 "nbformat_minor": 5
}
